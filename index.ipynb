{
 "cells": [
  {
   "cell_type": "markdown",
   "metadata": {},
   "source": [
    "# Welcome to PyPros-examples!\n",
    "\n",
    "In this binder we have designed a set of examples to show step by step how to obtain precipitation type fields using [PyPros]().\n",
    "\n",
    "This includes an example for each methodology contemplated, such as Koistinen-Saltikoff or static threshold. In addition, a description of how to run the `pypros_run` script from terminal is included.\n",
    "\n",
    "#### Try it yourself!"
   ]
  },
  {
   "cell_type": "markdown",
   "metadata": {},
   "source": [
    "### Main class\n",
    "\n",
    "[pypros class](./tutorials/pypros_class.ipynb)\n",
    "\n",
    "\n",
    "### Rain or snow methodologies\n",
    "\n",
    "[Single threshold](./tutorials/single-threshold.ipynb)  \n",
    "[Linear transition](./tutorials/linear-transition.ipynb)  \n",
    "[Koistinen-Saltikoff](./tutorials/koistinen-saltikoff.ipynb)  \n",
    "[Dual threshold](./tutorials/dual-threshold.ipynb)  \n",
    "\n",
    "\n",
    "### Script\n",
    "\n",
    "[pypros_run](./tutorials/pypros_run.ipynb)"
   ]
  }
 ],
 "metadata": {
  "kernelspec": {
   "display_name": "Python 3",
   "language": "python",
   "name": "python3"
  },
  "language_info": {
   "codemirror_mode": {
    "name": "ipython",
    "version": 3
   },
   "file_extension": ".py",
   "mimetype": "text/x-python",
   "name": "python",
   "nbconvert_exporter": "python",
   "pygments_lexer": "ipython3",
   "version": "3.7.5"
  }
 },
 "nbformat": 4,
 "nbformat_minor": 2
}