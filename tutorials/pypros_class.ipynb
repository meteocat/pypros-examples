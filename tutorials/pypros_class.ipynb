{
 "cells": [
  {
   "cell_type": "markdown",
   "metadata": {},
   "source": [
    "# PyPros class\n",
    "\n",
    "PyPros is the main class of this library as it implements the different methodologies available to discriminate the surface precipitation type using surface observations.\n",
    "\n",
    "In this notebook we'll cover the parameters of PyPros class and their format depending on the rain or snow methodology.\n",
    "\n",
    "First of all, we'll import PyPros class."
   ]
  },
  {
   "cell_type": "code",
   "execution_count": null,
   "metadata": {},
   "outputs": [],
   "source": [
    "from pypros.pros import PyPros"
   ]
  },
  {
   "cell_type": "markdown",
   "metadata": {},
   "source": [
    "```PyPros``` class receives four parameters:\n",
    "\n",
    "   - variables_files: A list of the files paths containing the fields of required variables\n",
    "   - method: The surface precipitation type method to use\n",
    "   - threshold: The value of the threshold(s) to be used by the chosen method\n",
    "   - data_format: A dictionary containing the order of the fields in variables_files"
   ]
  },
  {
   "cell_type": "markdown",
   "metadata": {},
   "source": [
    "#### Variables_files\n",
    "\n",
    "There are two mandatory fields to include: air temperature and dew point temperature. Both fields allow to use all the implemented methodologies of surface precipitation type discrimination. \n",
    "\n",
    "Digital Elevation Model (DEM) is an optional field which allows to calculate accurately the wet bulb temperature (if this method is selected) by using altitude values. Otherwise, wet bulb temperature is derived from air and dew point temperature fields only.\n",
    "\n",
    "First, we'll define the paths to each field and we'll set ```variables_file``` with all of them."
   ]
  },
  {
   "cell_type": "code",
   "execution_count": null,
   "metadata": {},
   "outputs": [],
   "source": [
    "tair_file = '../sample-data/INT_TAIR_20170325_0030.tif'\n",
    "tdew_file = '../sample-data/INT_TDEW_20170325_0030.tif'\n",
    "dem_file = '../sample-data/DEM_CAT.tif'\n",
    "\n",
    "variables_files = [tair_file, tdew_file, dem_file]"
   ]
  },
  {
   "cell_type": "markdown",
   "metadata": {},
   "source": [
    "#### Method and threshold\n",
    "\n",
    "The method is an optional parameter defaults to Koistinen and Saltikoff method, which must be passed as 'ks'. The following table illustrates the different methodologies available, how they must be introduced in ```PyPros``` class and the kind of threshold required. If no threshold is set, it assumes the default one.\n",
    "\n",
    "| Method                                 | Name               | Threshold           | Default      |\n",
    "|----------------------------------------|--------------------|---------------------|--------------|\n",
    "| Koistinen and Saltikoff                | ```'ks'```         | ```None```          | ```None```   |\n",
    "| Air temperature static threshold       | ```'static_ta'```  | ```float```         | ```0.0```    |\n",
    "| Wet bulb temperature static threshold  | ```'static_tw'```  | ```float```         | ```1.5```    |\n",
    "| Air temperature linear transition      | ```'linear_tr'```  | ```[th_l, th_u]```  | ```[0, 3]``` |\n",
    "\n",
    "Now, as an example, we'll define wet bulb temperature static threshold as the method to use and set threshold to 1.3$^{\\circ}$C."
   ]
  },
  {
   "cell_type": "code",
   "execution_count": null,
   "metadata": {},
   "outputs": [],
   "source": [
    "method = 'static_tw'\n",
    "threshold = 1.3"
   ]
  },
  {
   "cell_type": "markdown",
   "metadata": {},
   "source": [
    "#### Data format\n",
    "\n",
    "This parameter is a dictionary containing a key, ```vars_files``` providing the order of the fields in ```variables_files```. The name of the variables are the following ones:\n",
    "\n",
    "   \n",
    "| Field                    | Name          | \n",
    "|---------------------- ---|---------------|\n",
    "| Air temperature          | ```'tair'```  |\n",
    "| Dew point temperature    | ```'tdew'```  |\n",
    "| Digital Elevation Model  | ```'dem'```   |\n",
    "   \n",
    "Then, we'll set ```data_format``` parameter following the ```variables_files``` order:"
   ]
  },
  {
   "cell_type": "code",
   "execution_count": null,
   "metadata": {},
   "outputs": [],
   "source": [
    "data_format = {'vars_files': ['tair', 'tdew', 'dem']}"
   ]
  },
  {
   "cell_type": "markdown",
   "metadata": {},
   "source": [
    "###### Now we're ready to call PyPros class and obtain a surface precipitation type field."
   ]
  },
  {
   "cell_type": "code",
   "execution_count": null,
   "metadata": {},
   "outputs": [],
   "source": [
    "static_tw = PyPros(variables_files, method, threshold, data_format)"
   ]
  },
  {
   "cell_type": "markdown",
   "metadata": {},
   "source": [
    "Once we've called the class, now we can obtain the surface precipitation type field, apply the reflectivity mask available and save both in a raster file.\n",
    "\n",
    "To obtain the result, we must get the ```result``` attribute of the class."
   ]
  },
  {
   "cell_type": "code",
   "execution_count": null,
   "metadata": {},
   "outputs": [],
   "source": [
    "static_tw_field = static_tw.result"
   ]
  },
  {
   "cell_type": "markdown",
   "metadata": {},
   "source": [
    "And if we want to apply the reflectivity mask, we have to call ```refl_mask``` function from the PyPros class, which requires the reflectivity field as a parameter. So before calling ```refl_mask```, we have to prepare the reflectivity field.\n",
    "\n",
    "First of all, as it's a .tif file, we'll import ```gdal``` library."
   ]
  },
  {
   "cell_type": "code",
   "execution_count": null,
   "metadata": {},
   "outputs": [],
   "source": [
    "from osgeo import gdal\n",
    "refl_file = '../sample-data/CAPPI_XRAD_20170325_0030.tif'\n",
    "refl_array = gdal.Open(refl_file).ReadAsArray()"
   ]
  },
  {
   "cell_type": "markdown",
   "metadata": {},
   "source": [
    "In this case we used gdal because we have the reflectivity field stored in a .tif file, but for the ```refl_mask``` only an array is needed. So any format can be used, as long as it is transformed into a numpy array."
   ]
  },
  {
   "cell_type": "code",
   "execution_count": null,
   "metadata": {},
   "outputs": [],
   "source": [
    "static_tw_masked = static_tw.refl_mask(refl_array)"
   ]
  },
  {
   "cell_type": "markdown",
   "metadata": {},
   "source": [
    "Now, we've obtained two fields that we can save in raster files using ```save_result``` function from PyPros class. This function receives two parameters: the field matrix we want to save and the file path destination."
   ]
  },
  {
   "cell_type": "code",
   "execution_count": null,
   "metadata": {},
   "outputs": [],
   "source": [
    "static_tw.save_file(static_tw_field, '../sample-data/output/static_tw.tif')\n",
    "static_tw.save_file(static_tw_masked, '../sample-data/output/static_tw_masked.tif')"
   ]
  },
  {
   "cell_type": "markdown",
   "metadata": {},
   "source": [
    "We can have a look at ```static_tw``` result by plotting it with imshow:"
   ]
  },
  {
   "cell_type": "code",
   "execution_count": null,
   "metadata": {},
   "outputs": [],
   "source": [
    "import matplotlib.pyplot as plt\n",
    "\n",
    "plt.imshow(static_tw.result)\n",
    "plt.colorbar()\n",
    "plt.show()"
   ]
  },
  {
   "cell_type": "markdown",
   "metadata": {},
   "source": [
    "##### We have finished the introduction to PyPros class! Change the threshold values and methods and see how the snow level varies!"
   ]
  }
 ],
 "metadata": {
  "kernelspec": {
   "display_name": "Python 3",
   "language": "python",
   "name": "python3"
  },
  "language_info": {
   "codemirror_mode": {
    "name": "ipython",
    "version": 3
   },
   "file_extension": ".py",
   "mimetype": "text/x-python",
   "name": "python",
   "nbconvert_exporter": "python",
   "pygments_lexer": "ipython3",
   "version": "3.7.1"
  }
 },
 "nbformat": 4,
 "nbformat_minor": 2
}
