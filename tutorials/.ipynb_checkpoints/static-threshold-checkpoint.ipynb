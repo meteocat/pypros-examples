{
 "cells": [
  {
   "cell_type": "markdown",
   "metadata": {},
   "source": [
    "# Static threshold\n",
    "\n",
    "A single meteorological variable value is set as a threshold from which precipitation type is discriminated. If the meteorological variable value is above the threshold, precipitation is classified as rain, otherwise as snow.\n",
    "\n",
    "If air temperature ($T_{a}$) is chosen as meteorological variable:\n",
    "\n",
    "\\begin{equation*}  \n",
    "T_{a} <= T_{a_{threshold}} \\longrightarrow Snow \\\\\n",
    "T_{a} > T_{a_{threshold}} \\longrightarrow Rain\n",
    "\\end{equation*}\n",
    "\n",
    "In the following example we'll show how PyPROS classifies precipitation considering the static threshold methodology.\n",
    "\n",
    "First of all, we'll import the required libraries."
   ]
  },
  {
   "cell_type": "code",
   "execution_count": null,
   "metadata": {},
   "outputs": [],
   "source": [
    "from pypros.pros import PyPros"
   ]
  },
  {
   "cell_type": "markdown",
   "metadata": {},
   "source": [
    "As an example, we'll get the precipitation type classification from different methodologies for Catalonia on 2017-03-25 00.30 UTC. For this purpose we'll use an air temperature, dew point temperature, digital elevation model (DEM) and reflectivity fields.\n",
    "\n",
    "Those fields can be found in notebooks/data directory and we'll keep the path for all of them:"
   ]
  },
  {
   "cell_type": "code",
   "execution_count": null,
   "metadata": {},
   "outputs": [],
   "source": [
    "tair_file = './docs/notebooks/data/INT_TAIR_20170325_0030.tif'\n",
    "tdew_file = './docs/notebooks/data/INT_TDEW_20170325_0030.tif'\n",
    "dem_file = './docs/notebooks/data/DEM_CAT.tif'\n"
   ]
  },
  {
   "cell_type": "markdown",
   "metadata": {},
   "source": [
    "Now, we'll define those parameters that PyPros class uses and are the same whether the methodology changes or not. These parameters are: `variables_files` and `data_format`. For more information on this class, see [PyPros Class](pypros_class.ipynb) notebook."
   ]
  },
  {
   "cell_type": "code",
   "execution_count": null,
   "metadata": {},
   "outputs": [],
   "source": [
    "variables_files = [tair_file,\n",
    "                   tdew_file,\n",
    "                   dem_file]\n",
    "data_format = {'vars_files':['tair', 'tdew', 'dem']}"
   ]
  },
  {
   "cell_type": "markdown",
   "metadata": {},
   "source": [
    "### Air temperature threshold"
   ]
  },
  {
   "cell_type": "markdown",
   "metadata": {},
   "source": [
    "Since we want to apply a static air temperature threshold, first we'll define `method` PyPros parameter as `'static_ta'` and then we'll set the `threshold` parameter to 1.0$^{\\circ}$C."
   ]
  },
  {
   "cell_type": "code",
   "execution_count": null,
   "metadata": {},
   "outputs": [],
   "source": [
    "method = 'static_ta'\n",
    "threshold = 1.0"
   ]
  },
  {
   "cell_type": "markdown",
   "metadata": {},
   "source": [
    "Now, we're ready to call PyPros class!"
   ]
  },
  {
   "cell_type": "code",
   "execution_count": null,
   "metadata": {},
   "outputs": [],
   "source": [
    "static_ta = PyPros(variables_files, method, threshold, data_format)"
   ]
  },
  {
   "cell_type": "markdown",
   "metadata": {},
   "source": [
    "We can get a quicklook of the obtained field using `plot_pros` function:"
   ]
  },
  {
   "cell_type": "code",
   "execution_count": null,
   "metadata": {
    "scrolled": false
   },
   "outputs": [],
   "source": [
    "import matplotlib.pyplot as plt\n",
    "plt.imshow(static_ta.result)\n",
    "plt.show()"
   ]
  },
  {
   "cell_type": "markdown",
   "metadata": {},
   "source": [
    "In addition, we can save the precipitation type field in a raster file using `save_file` function:"
   ]
  },
  {
   "cell_type": "code",
   "execution_count": null,
   "metadata": {},
   "outputs": [],
   "source": [
    "static_ta.save_file(static_ta.result, '../sample-data/output/static_ta.tif')"
   ]
  },
  {
   "cell_type": "markdown",
   "metadata": {},
   "source": [
    "If we have a reflectivity field, we can also apply it as a mask by using `refl_mask` function and save it as a raster file. However, we'll have to read first the reflectivity field. For this purpose we need to import gdal."
   ]
  },
  {
   "cell_type": "code",
   "execution_count": null,
   "metadata": {},
   "outputs": [],
   "source": [
    "from osgeo import gdal\n",
    "\n",
    "refl_file = '../sample-data/CAPPI_XRAD_20170325_0030.tif'\n",
    "refl_array = gdal.Open(refl_file).ReadAsArray()"
   ]
  },
  {
   "cell_type": "markdown",
   "metadata": {},
   "source": [
    "Once we've read the ```refl_field``` we can call the ```refl_mask``` function."
   ]
  },
  {
   "cell_type": "code",
   "execution_count": null,
   "metadata": {},
   "outputs": [],
   "source": [
    "static_ta_masked = static_ta.refl_mask()\n",
    "\n",
    "static_ta.save_file(static_ta_masked, '../sample-data/output/static_ta_masked.tif')"
   ]
  },
  {
   "cell_type": "markdown",
   "metadata": {},
   "source": [
    "### Wet bulb temperature threshold\n",
    "\n",
    "We want to apply a static wet bulb temperature threshold, so first we'll define `method` PyPros parameter as `'static_tw'` and then we'll set the `threshold` parameter to 1.5$^{\\circ}$C."
   ]
  },
  {
   "cell_type": "code",
   "execution_count": null,
   "metadata": {},
   "outputs": [],
   "source": [
    "method = 'static_tw'\n",
    "threshold = 1.5"
   ]
  },
  {
   "cell_type": "markdown",
   "metadata": {},
   "source": [
    "Now, we're ready to call PyPros class!"
   ]
  },
  {
   "cell_type": "code",
   "execution_count": null,
   "metadata": {},
   "outputs": [],
   "source": [
    "static_tw = PyPros(variables_files, method, threshold, data_format)"
   ]
  },
  {
   "cell_type": "markdown",
   "metadata": {},
   "source": [
    "We can get a quicklook of the obtained field using `plot_pros` function:"
   ]
  },
  {
   "cell_type": "code",
   "execution_count": null,
   "metadata": {},
   "outputs": [],
   "source": [
    "plt.imshow(static_tw.result)\n",
    "plt.show()"
   ]
  },
  {
   "cell_type": "markdown",
   "metadata": {},
   "source": [
    "In addition, we can save the precipitation type field in a raster file using `save_file` function:"
   ]
  },
  {
   "cell_type": "code",
   "execution_count": null,
   "metadata": {},
   "outputs": [],
   "source": [
    "static_tw.save_file(static_tw.result, '../sample-data/output/static_tw.tif')"
   ]
  },
  {
   "cell_type": "markdown",
   "metadata": {},
   "source": [
    "If we have a reflectivity field, we can also apply it as a mask by using `refl_mask` function and save it as a raster file. However, we'll have to read first the reflectivity field. For this purpose we need to import gdal."
   ]
  },
  {
   "cell_type": "code",
   "execution_count": null,
   "metadata": {},
   "outputs": [],
   "source": [
    "from osgeo import gdal\n",
    "\n",
    "refl_file = '../sample-data/CAPPI_XRAD_20170325_0030.tif'\n",
    "refl_array = gdal.Open(refl_file).ReadAsArray()"
   ]
  },
  {
   "cell_type": "markdown",
   "metadata": {},
   "source": [
    "Once we've read the ```refl_file``` we can call the ```refl_mask``` function."
   ]
  },
  {
   "cell_type": "code",
   "execution_count": null,
   "metadata": {},
   "outputs": [],
   "source": [
    "static_tw_masked = static_tw.refl_mask(refl_array)\n",
    "\n",
    "static_tw.save_file(static_tw_masked, '../sample-data/output/static_tw_masked.tif')"
   ]
  }
 ],
 "metadata": {
  "kernelspec": {
   "display_name": "Python 3",
   "language": "python",
   "name": "python3"
  },
  "language_info": {
   "codemirror_mode": {
    "name": "ipython",
    "version": 3
   },
   "file_extension": ".py",
   "mimetype": "text/x-python",
   "name": "python",
   "nbconvert_exporter": "python",
   "pygments_lexer": "ipython3",
   "version": "3.7.1"
  }
 },
 "nbformat": 4,
 "nbformat_minor": 2
}
