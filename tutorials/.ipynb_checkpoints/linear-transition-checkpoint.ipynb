{
 "cells": [
  {
   "cell_type": "markdown",
   "metadata": {},
   "source": [
    "# Linear transition\n",
    "\n",
    "Two threshold values are set to discriminate precipitation type between rain ($th_{rain}$) and snow ($th_{snow}$). It can be either used with any meteorological field, but with thresholds properly defined. If a value of the meteorological field is above $th_{rain}$, precipitation is classified as rain. On the other hand, if the values is below $th_{snow}$, precipitation is classified as snow. A linear transition is assumed for values between $th_{snow}$ and $th_{rain}$, then precipitation is classified as a mixed type.\n",
    "\n",
    "If the meteorological field chosen to discriminate precipitation is air temperature:\n",
    "\n",
    "\\begin{equation*}\n",
    "T_{a} <= T_{snow} \\longrightarrow Snow \\\\\n",
    "T_{snow} < T_{a} < T_{rain} \\longrightarrow Mixed \\\\\n",
    "T_{a} >= T_{rain} \\longrightarrow Rain\n",
    "\\end{equation*}\n",
    "\n",
    "In the following example we'll show how PyPROS classifies precipitation considering the linear transition methodology.\n",
    "\n",
    "First of all, we'll import the required libraries."
   ]
  },
  {
   "cell_type": "code",
   "execution_count": null,
   "metadata": {},
   "outputs": [],
   "source": [
    "from pypros.pros import PyPros"
   ]
  },
  {
   "cell_type": "markdown",
   "metadata": {},
   "source": [
    "As an example, we'll get the precipitation type classification from different methodologies for Catalonia on 2017-03-25 00.30 UTC. For this purpose we'll use an air temperature, dew point temperature, digital elevation model (DEM) and reflectivity fields.\n",
    "\n",
    "Those fields can be found in notebooks/data directory and we'll keep the path for all of them:"
   ]
  },
  {
   "cell_type": "code",
   "execution_count": null,
   "metadata": {},
   "outputs": [],
   "source": [
    "tair_file = '../sample-data/INT_TAIR_20170325_0030.tif'\n",
    "tdew_file = '../sample-data/INT_TDEW_20170325_0030.tif'\n",
    "dem_file = '../sample-data/DEM_CAT.tif'"
   ]
  },
  {
   "cell_type": "markdown",
   "metadata": {},
   "source": [
    "Now, we'll define those parameters that PyPros class uses and are the same whether the methodology changes or not. These parameters are: `variables_files` and `data_format`. For more information on this class, see [PyPros Class](pypros_class.ipynb) notebook."
   ]
  },
  {
   "cell_type": "code",
   "execution_count": null,
   "metadata": {},
   "outputs": [],
   "source": [
    "variables_files = [tair_file,\n",
    "                   tdew_file,\n",
    "                   dem_file]\n",
    "data_format = {'vars_files':['tair', 'tdew', 'dem']}"
   ]
  },
  {
   "cell_type": "markdown",
   "metadata": {},
   "source": [
    "### Air temperature transition\n",
    "\n",
    "Since we want to apply an air temperature linear transition, first we'll define `method` PyPros parameter as `'linear_tr'` and then we'll set the `threshold` parameter to [0, 3] ($^{\\circ}$C)."
   ]
  },
  {
   "cell_type": "code",
   "execution_count": null,
   "metadata": {},
   "outputs": [],
   "source": [
    "method = 'linear_tr'\n",
    "threshold = [0, 3]"
   ]
  },
  {
   "cell_type": "markdown",
   "metadata": {},
   "source": [
    "Now, we're ready to call PyPros class!"
   ]
  },
  {
   "cell_type": "code",
   "execution_count": null,
   "metadata": {},
   "outputs": [],
   "source": [
    "linear_tr = PyPros(variables_files, method, threshold, data_format)"
   ]
  },
  {
   "cell_type": "markdown",
   "metadata": {},
   "source": [
    "We can get a quicklook of the obtained field using `plot_pros` function:"
   ]
  },
  {
   "cell_type": "code",
   "execution_count": null,
   "metadata": {},
   "outputs": [],
   "source": [
    "import matplotlib.pyplot as plt\n",
    "plt.imshow(linear_tr.result)\n",
    "plt.show()"
   ]
  },
  {
   "cell_type": "markdown",
   "metadata": {},
   "source": [
    "In addition, we can save the precipitation type field in a raster file using `save_file` function:"
   ]
  },
  {
   "cell_type": "code",
   "execution_count": null,
   "metadata": {},
   "outputs": [],
   "source": [
    "linear_tr.save_file(linear_tr.result, '../sample-data/output/linear_tr.tif')"
   ]
  },
  {
   "cell_type": "markdown",
   "metadata": {},
   "source": [
    "If we have a reflectivity field, we can also apply it as a mask by using `refl_mask` function and save it as a raster file. However, we'll have to read first the reflectivity field. For this purpose we need to import gdal."
   ]
  },
  {
   "cell_type": "code",
   "execution_count": null,
   "metadata": {},
   "outputs": [],
   "source": [
    "from osgeo import gdal\n",
    "\n",
    "refl_file = '../sample-data/CAPPI_XRAD_20170325_0030.tif'\n",
    "refl_array = gdal.Open(refl_file).ReadAsArray()"
   ]
  },
  {
   "cell_type": "markdown",
   "metadata": {},
   "source": [
    "Once we've read the ```refl_field``` we can call the ```refl_mask``` function."
   ]
  },
  {
   "cell_type": "code",
   "execution_count": null,
   "metadata": {},
   "outputs": [],
   "source": [
    "linear_tr_masked = linear_tr.refl_mask(refl_array)\n",
    "\n",
    "linear_tr.save_file(linear_tr_masked, '../sample-data/output/linear_tr_masked.tif')"
   ]
  }
 ],
 "metadata": {
  "kernelspec": {
   "display_name": "Python 3",
   "language": "python",
   "name": "python3"
  },
  "language_info": {
   "codemirror_mode": {
    "name": "ipython",
    "version": 3
   },
   "file_extension": ".py",
   "mimetype": "text/x-python",
   "name": "python",
   "nbconvert_exporter": "python",
   "pygments_lexer": "ipython3",
   "version": "3.7.5"
  }
 },
 "nbformat": 4,
 "nbformat_minor": 2
}
