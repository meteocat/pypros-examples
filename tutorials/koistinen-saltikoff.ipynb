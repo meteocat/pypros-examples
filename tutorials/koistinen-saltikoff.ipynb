{
 "cells": [
  {
   "cell_type": "markdown",
   "metadata": {},
   "source": [
    "# Koistinen-Saltikoff\n",
    "\n",
    "The methodology proposed by Koistinen and Saltikoff (1998) provides an empirical formula to calculate the probability of precipitation type using temperature and relative humidity observations. Formally, the formula calculates the probability of rain and two thresholds are set to discriminate between snow, sleet and rain. In our case, the equation is flipped, so probability of snow is determined by (1) which may be expressed as\n",
    "\n",
    "\\begin{equation*}\n",
    "p(snow) = 1 - \\dfrac{1}{1 + e^{22 - 2.7\\cdot T - 0.2\\cdot RH}}\n",
    "\\end{equation*}\n",
    "\n",
    "where T corresponds to temperature in Celsius and RH to relative humidity in %. If p(snow) obtained values are below 0.33 precipitation is in form of rain, if they are between 0.33 and 0.66 in form of sleet and classified as snow\n",
    "if they are above 0.66.\n",
    "\n",
    "In the following example we'll show how PyPROS classifies precipitation considering the Koistinen-Saltikoff methodology.\n",
    "\n",
    "First of all, we'll import the required libraries."
   ]
  },
  {
   "cell_type": "code",
   "execution_count": null,
   "metadata": {},
   "outputs": [],
   "source": [
    "from pypros.pros import PyPros"
   ]
  },
  {
   "cell_type": "markdown",
   "metadata": {},
   "source": [
    "As an example, we'll get the precipitation type classification from different methodologies for Catalonia on 2017-03-25 00.30 UTC. For this purpose we'll use an air temperature, dew point temperature, digital elevation model (DEM) and reflectivity fields.\n",
    "\n",
    "Those fields can be found in notebooks/data directory and we'll keep the path for all of them:"
   ]
  },
  {
   "cell_type": "code",
   "execution_count": null,
   "metadata": {},
   "outputs": [],
   "source": [
    "tair_file = '../sample-data/INT_TAIR_20170325_0030.tif'\n",
    "tdew_file = '../sample-data/INT_TDEW_20170325_0030.tif'\n",
    "dem_file = '../sample-data/DEM_CAT.tif'"
   ]
  },
  {
   "cell_type": "markdown",
   "metadata": {},
   "source": [
    "Now, we'll define those parameters that PyPros class uses and are the same whether the methodology changes or not. These parameters are: `variables_files` and `data_format`. For more information on this class, see [PyPros Class](pypros_class.ipynb) notebook."
   ]
  },
  {
   "cell_type": "code",
   "execution_count": null,
   "metadata": {},
   "outputs": [],
   "source": [
    "variables_files = [tair_file,\n",
    "                   tdew_file,\n",
    "                   dem_file]\n",
    "data_format = {'vars_files':['tair', 'tdew', 'dem']}"
   ]
  },
  {
   "cell_type": "markdown",
   "metadata": {},
   "source": [
    "Since we want to apply the Koistinen-Saltikoff methodology, first we'll define `method` PyPros parameter as `'ks'` and then we'll set the `threshold` parameter to ```None```."
   ]
  },
  {
   "cell_type": "code",
   "execution_count": null,
   "metadata": {},
   "outputs": [],
   "source": [
    "method = 'ks'\n",
    "threshold = None"
   ]
  },
  {
   "cell_type": "markdown",
   "metadata": {},
   "source": [
    "Now, we're ready to call PyPros class!"
   ]
  },
  {
   "cell_type": "code",
   "execution_count": null,
   "metadata": {},
   "outputs": [],
   "source": [
    "ks = PyPros(variables_files, method, threshold, data_format)"
   ]
  },
  {
   "cell_type": "markdown",
   "metadata": {},
   "source": [
    "We can get a quicklook of the obtained field using `plot_pros` function:"
   ]
  },
  {
   "cell_type": "code",
   "execution_count": null,
   "metadata": {},
   "outputs": [],
   "source": [
    "import matplotlib.pyplot as plt\n",
    "plt.imshow(ks.result)\n",
    "plt.show()"
   ]
  },
  {
   "cell_type": "markdown",
   "metadata": {},
   "source": [
    "In addition, we can save the precipitation type field in a raster file using `save_file` function:"
   ]
  },
  {
   "cell_type": "code",
   "execution_count": null,
   "metadata": {},
   "outputs": [],
   "source": [
    "ks.save_file(ks.result, '../sample-data/output/ks.tif')"
   ]
  },
  {
   "cell_type": "markdown",
   "metadata": {},
   "source": [
    "If we have a reflectivity field, we can also apply it as a mask by using `refl_mask` function and save it as a raster file. However, we'll have to read first the reflectivity field. For this purpose we need to import gdal."
   ]
  },
  {
   "cell_type": "code",
   "execution_count": null,
   "metadata": {},
   "outputs": [],
   "source": [
    "from osgeo import gdal\n",
    "\n",
    "refl_file = '../sample-data/CAPPI_XRAD_20170325_0030.tif'\n",
    "refl_array = gdal.Open(refl_file).ReadAsArray()"
   ]
  },
  {
   "cell_type": "markdown",
   "metadata": {},
   "source": [
    "Once we've read the ```refl_field``` we can call the ```refl_mask``` function."
   ]
  },
  {
   "cell_type": "code",
   "execution_count": null,
   "metadata": {},
   "outputs": [],
   "source": [
    "ks_masked = ks.refl_mask(refl_array)\n",
    "\n",
    "ks.save_file(ks_masked, '../sample-data/output/ks_masked.tif')"
   ]
  }
 ],
 "metadata": {
  "kernelspec": {
   "display_name": "Python 3",
   "language": "python",
   "name": "python3"
  },
  "language_info": {
   "codemirror_mode": {
    "name": "ipython",
    "version": 3
   },
   "file_extension": ".py",
   "mimetype": "text/x-python",
   "name": "python",
   "nbconvert_exporter": "python",
   "pygments_lexer": "ipython3",
   "version": "3.7.1"
  }
 },
 "nbformat": 4,
 "nbformat_minor": 2
}
