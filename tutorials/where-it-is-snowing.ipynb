{
 "cells": [
  {
   "cell_type": "markdown",
   "metadata": {},
   "source": [
    "# Where is it snowing?\n",
    "\n",
    "Information about surface precipitation type can be estimated considering meteorological surface observations only. Previous studies addressed this issue from different points of view: considering a threshold of air temperature to discriminate precipitation type or a combination of air temperature and relative humidity observations to get the probability for each precipitation type: rain, sleet and snow.\n",
    "\n",
    "In the following examples we'll show how PyPROS classifies precipitation considering different methodologies present in bibliography.\n",
    "\n",
    "First of all, we'll import the required libraries."
   ]
  },
  {
   "cell_type": "code",
   "execution_count": null,
   "metadata": {},
   "outputs": [],
   "source": [
    "from pypros.pros import PyPros"
   ]
  },
  {
   "cell_type": "markdown",
   "metadata": {},
   "source": [
    "As an example, we'll get the precipitation type classification from different methodologies for Catalonia on 2017-03-25 00.30 UTC. For this purpose we'll use an air temperature, dew point temperature, digital elevation model (DEM) and reflectivity fields.\n",
    "\n",
    "Those fields can be found in notebooks/data directory and we'll keep the path for all of them:"
   ]
  },
  {
   "cell_type": "code",
   "execution_count": null,
   "metadata": {},
   "outputs": [],
   "source": [
    "tair_file = './docs/notebooks/data/INT_TAIR_20170325_0030.tif'\n",
    "tdew_file = './docs/notebooks/data/INT_TDEW_20170325_0030.tif'\n",
    "dem_file = './docs/notebooks/data/DEM_CAT.tif'\n",
    "#refl_file = './docs/notebooks/data/CAPPI_XRAD_20170325_0030.tif'"
   ]
  },
  {
   "cell_type": "markdown",
   "metadata": {},
   "source": [
    "Now, we'll define those parameters that PyPros class uses and are the same whether the methodology changes or not. These parameters are: `variables_files` and `data_format`. For more information on this class, see [PyPros Class](pypros_class.ipynb) notebook."
   ]
  },
  {
   "cell_type": "code",
   "execution_count": null,
   "metadata": {},
   "outputs": [],
   "source": [
    "variables_files = [tair_file,\n",
    "                   tdew_file,\n",
    "                   dem_file]\n",
    "data_format = {'vars_files':['tair', 'tdew', 'dem']}"
   ]
  },
  {
   "cell_type": "markdown",
   "metadata": {},
   "source": [
    "### Static threshold"
   ]
  },
  {
   "cell_type": "markdown",
   "metadata": {},
   "source": [
    "A single meteorological variable value is set as a threshold from which precipitation type is discriminated. If the meteorological variable value is above the threshold, precipitation is classified as rain, otherwise as snow.\n",
    "\n",
    "If air temperature ($T_{a}$) is chosen as meteorological variable:\n",
    "\n",
    "\\begin{equation*}  \n",
    "T_{a} <= T_{a_{threshold}} \\longrightarrow Snow \\\\\n",
    "T_{a} > T_{a_{threshold}} \\longrightarrow Rain\n",
    "\\end{equation*}"
   ]
  },
  {
   "cell_type": "markdown",
   "metadata": {},
   "source": [
    "#### Air temperature threshold\n",
    "\n",
    "Since we want to apply a static air temperature threshold, first we'll define `method` PyPros parameter as `'static_ta'` and then we'll set the `threshold` parameter to 1.0$^{\\circ}$C."
   ]
  },
  {
   "cell_type": "code",
   "execution_count": null,
   "metadata": {},
   "outputs": [],
   "source": [
    "method = 'static_ta'\n",
    "threshold = 1.0"
   ]
  },
  {
   "cell_type": "markdown",
   "metadata": {},
   "source": [
    "Now, we're ready to call PyPros class!"
   ]
  },
  {
   "cell_type": "code",
   "execution_count": null,
   "metadata": {},
   "outputs": [],
   "source": [
    "static_ta = PyPros(variables_files, method, threshold, data_format)"
   ]
  },
  {
   "cell_type": "markdown",
   "metadata": {},
   "source": [
    "We can get a quicklook of the obtained field using `plot_pros` function:"
   ]
  },
  {
   "cell_type": "code",
   "execution_count": null,
   "metadata": {
    "scrolled": false
   },
   "outputs": [],
   "source": [
    "import matplotlib.pyplot as plt\n",
    "plt.imshow(static_ta.refl_mask())\n",
    "plt.show()"
   ]
  },
  {
   "cell_type": "markdown",
   "metadata": {},
   "source": [
    "In addition, we can save the precipitation type field in a raster file using `save_file` function:"
   ]
  },
  {
   "cell_type": "code",
   "execution_count": null,
   "metadata": {},
   "outputs": [],
   "source": [
    "static_ta.save_file(static_ta.result, './docs/notebooks/output/static_ta.tif')"
   ]
  },
  {
   "cell_type": "markdown",
   "metadata": {},
   "source": [
    "If we provided a reflectivity field, we can also apply the reflectivity mask by using `refl_mask` function and save it in a raster file:"
   ]
  },
  {
   "cell_type": "code",
   "execution_count": null,
   "metadata": {},
   "outputs": [],
   "source": [
    "static_ta_masked = static_ta.refl_mask()\n",
    "\n",
    "static_ta.save_file(static_ta_masked, './docs/notebooks/output/static_ta_masked.tif')"
   ]
  },
  {
   "cell_type": "markdown",
   "metadata": {},
   "source": [
    "#### Wet bulb temperature threshold\n",
    "\n",
    "We want to apply a static wet bulb temperature threshold, so first we'll define `method` PyPros parameter as `'static_tw'` and then we'll set the `threshold` parameter to 1.5$^{\\circ}$C."
   ]
  },
  {
   "cell_type": "code",
   "execution_count": null,
   "metadata": {},
   "outputs": [],
   "source": [
    "method = 'static_tw'\n",
    "threshold = 1.5"
   ]
  },
  {
   "cell_type": "markdown",
   "metadata": {},
   "source": [
    "Now, we're ready to call PyPros class!"
   ]
  },
  {
   "cell_type": "code",
   "execution_count": null,
   "metadata": {},
   "outputs": [],
   "source": [
    "static_tw = PyPros(variables_files, method, threshold, data_format)"
   ]
  },
  {
   "cell_type": "markdown",
   "metadata": {},
   "source": [
    "We can get a quicklook of the obtained field using `plot_pros` function:"
   ]
  },
  {
   "cell_type": "code",
   "execution_count": null,
   "metadata": {},
   "outputs": [],
   "source": [
    "plt.imshow(static_tw.refl_mask())\n",
    "plt.show()"
   ]
  },
  {
   "cell_type": "markdown",
   "metadata": {},
   "source": [
    "In addition, we can save the precipitation type field in a raster file using `save_file` function:"
   ]
  },
  {
   "cell_type": "code",
   "execution_count": null,
   "metadata": {},
   "outputs": [],
   "source": [
    "static_tw.save_file(static_tw.result, './docs/notebooks/output/static_tw.tif')"
   ]
  },
  {
   "cell_type": "markdown",
   "metadata": {},
   "source": [
    "If we provided a reflectivity field, we can also apply the reflectivity mask by using `refl_mask` function and save it in a raster file:"
   ]
  },
  {
   "cell_type": "code",
   "execution_count": null,
   "metadata": {},
   "outputs": [],
   "source": [
    "static_tw_masked = static_tw.refl_mask()\n",
    "\n",
    "static_tw.save_file(static_tw_masked, './docs/notebooks/output/static_tw_masked.tif')"
   ]
  },
  {
   "cell_type": "markdown",
   "metadata": {},
   "source": [
    "### Linear transition\n",
    "\n",
    "Two threshold values are set to discriminate precipitation type between rain ($th_{rain}$) and snow ($th_{snow}$). It can be either used with any meteorological field, but with thresholds properly defined. If a value of the meteorological field is above $th_{rain}$, precipitation is classified as rain. On the other hand, if the values is below $th_{snow}$, precipitation is classified as snow. A linear transition is assumed for values between $th_{snow}$ and $th_{rain}$, then precipitation is classified as a mixed type.\n",
    "\n",
    "If the meteorological field chosen to discriminate air is air temperature:\n",
    "\n",
    "\\begin{equation*}\n",
    "T_{a} <= T_{snow} \\longrightarrow Snow \\\\\n",
    "T_{snow} < T_{a} < T_{rain} \\longrightarrow Mixed \\\\\n",
    "T_{a} >= T_{rain} \\longrightarrow Rain\n",
    "\\end{equation*}"
   ]
  },
  {
   "cell_type": "markdown",
   "metadata": {},
   "source": [
    "#### Air temperature transition"
   ]
  },
  {
   "cell_type": "code",
   "execution_count": null,
   "metadata": {},
   "outputs": [],
   "source": [
    "method = 'linear_tr'\n",
    "threshold = [0, 3]"
   ]
  },
  {
   "cell_type": "markdown",
   "metadata": {},
   "source": [
    "Now, we're ready to call PyPros class!"
   ]
  },
  {
   "cell_type": "code",
   "execution_count": null,
   "metadata": {},
   "outputs": [],
   "source": [
    "linear_tr = PyPros(variables_files, method, threshold, data_format)"
   ]
  },
  {
   "cell_type": "markdown",
   "metadata": {},
   "source": [
    "We can get a quicklook of the obtained field using `plot_pros` function:"
   ]
  },
  {
   "cell_type": "code",
   "execution_count": null,
   "metadata": {},
   "outputs": [],
   "source": [
    "plt.imshow(linear_tr.refl_mask())\n",
    "plt.show()"
   ]
  },
  {
   "cell_type": "markdown",
   "metadata": {},
   "source": [
    "In addition, we can save the precipitation type field in a raster file using `save_file` function:"
   ]
  },
  {
   "cell_type": "code",
   "execution_count": null,
   "metadata": {},
   "outputs": [],
   "source": [
    "linear_tr.save_file(linear_tr.result, './docs/notebooks/output/linear_tr.tif')"
   ]
  },
  {
   "cell_type": "markdown",
   "metadata": {},
   "source": [
    "If we provided a reflectivity field, we can also apply the reflectivity mask by using `refl_mask` function and save it in a raster file:"
   ]
  },
  {
   "cell_type": "code",
   "execution_count": null,
   "metadata": {},
   "outputs": [],
   "source": [
    "linear_tr_masked = linear_tr.refl_mask()\n",
    "\n",
    "linear_tr.save_file(linear_tr_masked, './docs/notebooks/output/linear_tr_masked.tif')"
   ]
  },
  {
   "cell_type": "markdown",
   "metadata": {},
   "source": [
    "### Koistinen and Saltikoff\n",
    "\n",
    "The methodology proposed by Koistinen and Saltikoff (1998) provides an empirical formula to calculate the probability of precipitation type using temperature and relative humidity observations. Formally, the formula calculates the probability of rain and two thresholds are set to discriminate between snow, sleet and rain. In our case, the equation is flipped, so probability of snow is determined by (1) which may be expressed as\n",
    "\n",
    "\\begin{equation*}\n",
    "p(snow) = 1 - \\dfrac{1}{1 + e^{22 - 2.7\\cdot T - 0.2\\cdot RH}}\n",
    "\\end{equation*}\n",
    "\n",
    "where T corresponds to temperature in Celsius and RH to relative humidity in %. If p(snow) obtained values are below 0.33 precipitation is in form of rain, if they are between 0.33 and 0.66 in form of sleet and classified as snow\n",
    "if they are above 0.66."
   ]
  },
  {
   "cell_type": "code",
   "execution_count": null,
   "metadata": {},
   "outputs": [],
   "source": [
    "method = 'ks'\n",
    "threshold = None"
   ]
  },
  {
   "cell_type": "markdown",
   "metadata": {},
   "source": [
    "Now, we're ready to call PyPros class!"
   ]
  },
  {
   "cell_type": "code",
   "execution_count": null,
   "metadata": {},
   "outputs": [],
   "source": [
    "ks = PyPros(variables_files, method, threshold, data_format)"
   ]
  },
  {
   "cell_type": "markdown",
   "metadata": {},
   "source": [
    "We can get a quicklook of the obtained field using `plot_pros` function:"
   ]
  },
  {
   "cell_type": "code",
   "execution_count": null,
   "metadata": {},
   "outputs": [],
   "source": [
    "plt.imshow(ks.refl_mask())\n",
    "plt.show()"
   ]
  },
  {
   "cell_type": "markdown",
   "metadata": {},
   "source": [
    "In addition, we can save the precipitation type field in a raster file using `save_file` function:"
   ]
  },
  {
   "cell_type": "code",
   "execution_count": null,
   "metadata": {},
   "outputs": [],
   "source": [
    "ks.save_file(ks.result, './docs/notebooks/output/ks.tif')"
   ]
  },
  {
   "cell_type": "markdown",
   "metadata": {},
   "source": [
    "If we provided a reflectivity field, we can also apply the reflectivity mask by using `refl_mask` function and save it in a raster file:"
   ]
  },
  {
   "cell_type": "code",
   "execution_count": null,
   "metadata": {},
   "outputs": [],
   "source": [
    "ks_masked = ks.refl_mask()\n",
    "\n",
    "ks.save_file(ks_masked, './docs/notebooks/output/ks_masked.tif')"
   ]
  }
 ],
 "metadata": {
  "kernelspec": {
   "display_name": "Python 3",
   "language": "python",
   "name": "python3"
  },
  "language_info": {
   "codemirror_mode": {
    "name": "ipython",
    "version": 3
   },
   "file_extension": ".py",
   "mimetype": "text/x-python",
   "name": "python",
   "nbconvert_exporter": "python",
   "pygments_lexer": "ipython3",
   "version": "3.7.1"
  }
 },
 "nbformat": 4,
 "nbformat_minor": 2
}
